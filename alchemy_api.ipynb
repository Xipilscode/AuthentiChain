{
 "cells": [
  {
   "cell_type": "code",
   "execution_count": 126,
   "id": "0f52072f-6cda-4e22-97fc-049f9a3fe7e3",
   "metadata": {
    "tags": []
   },
   "outputs": [],
   "source": [
    "#Import libraries\n",
    "import os\n",
    "import time\n",
    "import pandas as pd\n",
    "import matplotlib.pyplot as plt\n",
    "from web3 import Web3\n",
    "from tqdm import tqdm\n",
    "from dotenv import load_dotenv\n",
    "from datetime import datetime, timedelta\n",
    "from statsmodels.tsa.stattools import adfuller\n",
    "from statsmodels.graphics.tsaplots import plot_acf, plot_pacf"
   ]
  },
  {
   "cell_type": "code",
   "execution_count": 83,
   "id": "15f7368e-c749-4544-982c-d7b5a52d3b16",
   "metadata": {
    "tags": []
   },
   "outputs": [],
   "source": [
    "# Load .env file\n",
    "load_dotenv()\n",
    "\n",
    "# Load API key from .env file\n",
    "api_key = os.getenv(\"ALCHEMY_API_KEY\")"
   ]
  },
  {
   "cell_type": "markdown",
   "id": "eeecc8d6-5025-4f4c-ac09-8e020c3006fe",
   "metadata": {
    "tags": []
   },
   "source": [
    "### Step 1: Set Up Web3 Connection"
   ]
  },
  {
   "cell_type": "code",
   "execution_count": 84,
   "id": "42766fd3-e67e-48c6-942d-68ebe628b37c",
   "metadata": {
    "tags": []
   },
   "outputs": [
    {
     "name": "stdout",
     "output_type": "stream",
     "text": [
      "Connected to Ethereum node.\n"
     ]
    }
   ],
   "source": [
    "# Define the Alchemy API endpoint\n",
    "api_endpoint = f\"https://eth-mainnet.alchemyapi.io/v2/{api_key}\"\n",
    "\n",
    "# Set up Web3 connection\n",
    "w3 = Web3(Web3.HTTPProvider(api_endpoint))\n",
    "\n",
    "# Check if the connection is successful\n",
    "if w3.isConnected():\n",
    "    print(\"Connected to Ethereum node.\")\n",
    "else:\n",
    "    print(\"Connection failed!\")"
   ]
  },
  {
   "cell_type": "code",
   "execution_count": 86,
   "id": "7e6f1354-e54c-4f17-964c-c896ae8c2591",
   "metadata": {
    "tags": []
   },
   "outputs": [],
   "source": [
    "# Define the start and end dates for which the data is required\n",
    "start_date = datetime(2022, 5, 19)\n",
    "end_date = datetime(2023, 5, 19)"
   ]
  },
  {
   "cell_type": "markdown",
   "id": "0d3a83b0-13e4-4715-826d-d43825d076ce",
   "metadata": {},
   "source": [
    "# Step 2: Estimate the number of blocks per hour and total blocks for the time period"
   ]
  },
  {
   "cell_type": "code",
   "execution_count": 87,
   "id": "0f6f3055-da67-4418-9958-d7db56a70cd7",
   "metadata": {
    "tags": []
   },
   "outputs": [
    {
     "name": "stdout",
     "output_type": "stream",
     "text": [
      "Average block time: 13 seconds\n",
      "Estimated blocks per hour: 276\n",
      "Total number of hourly blocks for the given time period: 2417760\n"
     ]
    }
   ],
   "source": [
    "# Alternative to calculate average block time\n",
    "# Get the number of the latest block\n",
    "# latest_block_number = w3.eth.get_block('latest')['number']\n",
    "# # Calculate the block times of the latest 1000 blocks\n",
    "# block_times = []\n",
    "# for i in range(1000):\n",
    "#     # Get the current and previous blocks\n",
    "#     current_block = w3.eth.get_block(latest_block_number - i)\n",
    "#     previous_block = w3.eth.get_block(latest_block_number - i - 1)\n",
    "    \n",
    "#     # Calculate the block time and append to the list\n",
    "#     block_time = current_block['timestamp'] - previous_block['timestamp']\n",
    "#     block_times.append(block_time)\n",
    "\n",
    "# # Calculate the average block time\n",
    "# average_block_time = sum(block_times) / len(block_times)\n",
    "# print(f\"Average block time: {average_block_time} seconds\")\n",
    "\n",
    "# Define the block time(in seconds)\n",
    "avg_block_time = 13  \n",
    "print(f\"Average block time: {avg_block_time} seconds\")\n",
    "\n",
    "# Calculate the estimated number of blocks per hourn(3600 seconds in an hour)\n",
    "blocks_per_hour = int(3600 / avg_block_time)\n",
    "print(f\"Estimated blocks per hour: {blocks_per_hour}\")\n",
    "\n",
    "# Calculate the total hours for the given time period\n",
    "total_hours = int((end_date - start_date).total_seconds() / 3600)\n",
    "\n",
    "# Calculate the total number of blocks for the given time period\n",
    "total_blocks = total_hours * blocks_per_hour\n",
    "print(f\"Total number of hourly blocks for the given time period: {total_blocks}\")"
   ]
  },
  {
   "cell_type": "markdown",
   "id": "3bd9c53e-e604-4bb6-8152-7d93493c0042",
   "metadata": {
    "tags": []
   },
   "source": [
    "### Step 3: Fetch the gas prices and save them in a pandas DataFrame\n",
    "In this step, we iterate through all the blocks within our determined range, fetch the block details, and extract the gas prices and timestamps. The gas price, initially in hexadecimal format ('baseFeePerGas'), is converted into an integer using `int(block['baseFeePerGas'], 16)`. For each block, a new DataFrame is created to store the gas price and timestamp. We use `pandas.concat()` to combine these new DataFrames with our main `gas_price_data` DataFrame.\n",
    "\n",
    "The base fee per gas is typically represented as a hexadecimal number in the block information, so it is being converted to an integer using the int() function with base 16.\n",
    "The gas prices obtained are in \"wei\", which is the smallest denomination of ether.\n",
    "\n",
    "For perspective:\n",
    "1 Ether (ETH) = 1,000,000,000,000,000,000 Wei (1e18 Wei)"
   ]
  },
  {
   "cell_type": "code",
   "execution_count": 88,
   "id": "3a965463-0a37-4368-97fb-d9c2f04a2332",
   "metadata": {
    "tags": []
   },
   "outputs": [],
   "source": [
    "# Get the latest block number\n",
    "latest_block = w3.eth.block_number"
   ]
  },
  {
   "cell_type": "code",
   "execution_count": 89,
   "id": "39bedd5e-892d-46fa-a444-72dabb63b63e",
   "metadata": {
    "tags": []
   },
   "outputs": [
    {
     "data": {
      "text/plain": [
       "14886220"
      ]
     },
     "execution_count": 89,
     "metadata": {},
     "output_type": "execute_result"
    }
   ],
   "source": [
    "# Calculate the start block\n",
    "start_block = latest_block - total_blocks\n",
    "start_block"
   ]
  },
  {
   "cell_type": "code",
   "execution_count": 90,
   "id": "b5dcf346-d8e7-4e91-8c30-1815f60c95db",
   "metadata": {
    "tags": []
   },
   "outputs": [
    {
     "name": "stderr",
     "output_type": "stream",
     "text": [
      "Fetching gas prices data: 100%|█████████████| 8760/8760 [19:40<00:00,  7.42it/s]\n"
     ]
    }
   ],
   "source": [
    "# Initialize an empty DataFrame to store the gas prices\n",
    "gas_price_data = pd.DataFrame(columns=['timestamp', 'gas_price'])\n",
    "\n",
    "# Loop through the blocks, show status bar\n",
    "for block_number in tqdm(range(start_block, latest_block, blocks_per_hour),\n",
    "                         desc=\"Fetching gas prices data\"): \n",
    "    \n",
    "    # Get the block details\n",
    "    block = w3.eth.get_block(block_number)\n",
    "\n",
    "    # Convert the gas price from hex to integer\n",
    "    gas_price = int(block['baseFeePerGas'], 16)\n",
    "\n",
    "    # Convert timestamp to datetime and create a DataFrame with the block timestamp and gas price\n",
    "    block_data = pd.DataFrame({\n",
    "        'timestamp': [datetime.fromtimestamp(block['timestamp'])],\n",
    "        'gas_price': [gas_price]\n",
    "    })\n",
    "\n",
    "    # Append the block data to the gas price data DataFrame\n",
    "    gas_price_data = pd.concat([gas_price_data, block_data])"
   ]
  },
  {
   "cell_type": "code",
   "execution_count": 91,
   "id": "603e73a8-0aca-44e9-ab6e-c952f1fc2b7f",
   "metadata": {
    "tags": []
   },
   "outputs": [],
   "source": [
    "# Save the DataFrame to a CSV file\n",
    "gas_price_data.to_csv('resources/gas_price_data.csv', index=False)"
   ]
  },
  {
   "cell_type": "code",
   "execution_count": 99,
   "id": "a1656653-da0d-4114-90f7-fd2f7b954f86",
   "metadata": {
    "tags": []
   },
   "outputs": [
    {
     "data": {
      "text/html": [
       "<div>\n",
       "<style scoped>\n",
       "    .dataframe tbody tr th:only-of-type {\n",
       "        vertical-align: middle;\n",
       "    }\n",
       "\n",
       "    .dataframe tbody tr th {\n",
       "        vertical-align: top;\n",
       "    }\n",
       "\n",
       "    .dataframe thead th {\n",
       "        text-align: right;\n",
       "    }\n",
       "</style>\n",
       "<table border=\"1\" class=\"dataframe\">\n",
       "  <thead>\n",
       "    <tr style=\"text-align: right;\">\n",
       "      <th></th>\n",
       "      <th>gas_price</th>\n",
       "    </tr>\n",
       "    <tr>\n",
       "      <th>timestamp</th>\n",
       "      <th></th>\n",
       "    </tr>\n",
       "  </thead>\n",
       "  <tbody>\n",
       "    <tr>\n",
       "      <th>2022-06-01 11:03:52</th>\n",
       "      <td>63239618198</td>\n",
       "    </tr>\n",
       "    <tr>\n",
       "      <th>2022-06-01 12:03:48</th>\n",
       "      <td>68281963048</td>\n",
       "    </tr>\n",
       "    <tr>\n",
       "      <th>2022-06-01 13:08:25</th>\n",
       "      <td>121007946512</td>\n",
       "    </tr>\n",
       "    <tr>\n",
       "      <th>2022-06-01 14:07:45</th>\n",
       "      <td>126156205023</td>\n",
       "    </tr>\n",
       "    <tr>\n",
       "      <th>2022-06-01 15:10:50</th>\n",
       "      <td>67510279000</td>\n",
       "    </tr>\n",
       "  </tbody>\n",
       "</table>\n",
       "</div>"
      ],
      "text/plain": [
       "                        gas_price\n",
       "timestamp                        \n",
       "2022-06-01 11:03:52   63239618198\n",
       "2022-06-01 12:03:48   68281963048\n",
       "2022-06-01 13:08:25  121007946512\n",
       "2022-06-01 14:07:45  126156205023\n",
       "2022-06-01 15:10:50   67510279000"
      ]
     },
     "execution_count": 99,
     "metadata": {},
     "output_type": "execute_result"
    }
   ],
   "source": [
    "gas_price_data.head()"
   ]
  },
  {
   "cell_type": "code",
   "execution_count": 113,
   "id": "21dbdd96-d203-47f4-95db-0fd9ad105155",
   "metadata": {
    "tags": []
   },
   "outputs": [
    {
     "ename": "TypeError",
     "evalue": "set_index() got an unexpected keyword argument 'parse_dates'",
     "output_type": "error",
     "traceback": [
      "\u001b[0;31m---------------------------------------------------------------------------\u001b[0m",
      "\u001b[0;31mTypeError\u001b[0m                                 Traceback (most recent call last)",
      "Cell \u001b[0;32mIn[113], line 2\u001b[0m\n\u001b[1;32m      1\u001b[0m \u001b[38;5;66;03m# Set `timestamp` column as index, copy DataFrame\u001b[39;00m\n\u001b[0;32m----> 2\u001b[0m gas_price_df \u001b[38;5;241m=\u001b[39m \u001b[43mgas_price_data\u001b[49m\u001b[38;5;241;43m.\u001b[39;49m\u001b[43mset_index\u001b[49m\u001b[43m(\u001b[49m\u001b[38;5;124;43m'\u001b[39;49m\u001b[38;5;124;43mtimestamp\u001b[39;49m\u001b[38;5;124;43m'\u001b[39;49m\u001b[43m,\u001b[49m\u001b[43m \u001b[49m\u001b[43mparse_dates\u001b[49m\u001b[38;5;241;43m=\u001b[39;49m\u001b[38;5;28;43;01mTrue\u001b[39;49;00m\u001b[43m)\u001b[49m\u001b[38;5;241m.\u001b[39mcopy()\n",
      "File \u001b[0;32m~/opt/anaconda3/envs/blockchain/lib/python3.8/site-packages/pandas/util/_decorators.py:331\u001b[0m, in \u001b[0;36mdeprecate_nonkeyword_arguments.<locals>.decorate.<locals>.wrapper\u001b[0;34m(*args, **kwargs)\u001b[0m\n\u001b[1;32m    325\u001b[0m \u001b[38;5;28;01mif\u001b[39;00m \u001b[38;5;28mlen\u001b[39m(args) \u001b[38;5;241m>\u001b[39m num_allow_args:\n\u001b[1;32m    326\u001b[0m     warnings\u001b[38;5;241m.\u001b[39mwarn(\n\u001b[1;32m    327\u001b[0m         msg\u001b[38;5;241m.\u001b[39mformat(arguments\u001b[38;5;241m=\u001b[39m_format_argument_list(allow_args)),\n\u001b[1;32m    328\u001b[0m         \u001b[38;5;167;01mFutureWarning\u001b[39;00m,\n\u001b[1;32m    329\u001b[0m         stacklevel\u001b[38;5;241m=\u001b[39mfind_stack_level(),\n\u001b[1;32m    330\u001b[0m     )\n\u001b[0;32m--> 331\u001b[0m \u001b[38;5;28;01mreturn\u001b[39;00m \u001b[43mfunc\u001b[49m\u001b[43m(\u001b[49m\u001b[38;5;241;43m*\u001b[39;49m\u001b[43margs\u001b[49m\u001b[43m,\u001b[49m\u001b[43m \u001b[49m\u001b[38;5;241;43m*\u001b[39;49m\u001b[38;5;241;43m*\u001b[39;49m\u001b[43mkwargs\u001b[49m\u001b[43m)\u001b[49m\n",
      "\u001b[0;31mTypeError\u001b[0m: set_index() got an unexpected keyword argument 'parse_dates'"
     ]
    }
   ],
   "source": [
    "# Set `timestamp` column as index, copy DataFrame\n",
    "gas_price_df = gas_price_data.set_index('timestamp').copy()"
   ]
  },
  {
   "cell_type": "code",
   "execution_count": 124,
   "id": "7f31c3f0-41be-4fbc-b638-c80d1b6c1a0b",
   "metadata": {
    "tags": []
   },
   "outputs": [
    {
     "name": "stdout",
     "output_type": "stream",
     "text": [
      "<class 'pandas.core.frame.DataFrame'>\n",
      "DatetimeIndex: 8760 entries, 2022-06-01 11:03:52 to 2023-05-20 15:50:35\n",
      "Data columns (total 1 columns):\n",
      " #   Column     Non-Null Count  Dtype \n",
      "---  ------     --------------  ----- \n",
      " 0   gas_price  8760 non-null   object\n",
      "dtypes: object(1)\n",
      "memory usage: 136.9+ KB\n"
     ]
    }
   ],
   "source": [
    "gas_price_df.info()"
   ]
  },
  {
   "cell_type": "code",
   "execution_count": 107,
   "id": "bc03bf18-743c-405a-8d0b-03a19afc1198",
   "metadata": {},
   "outputs": [
    {
     "data": {
      "text/html": [
       "<div>\n",
       "<style scoped>\n",
       "    .dataframe tbody tr th:only-of-type {\n",
       "        vertical-align: middle;\n",
       "    }\n",
       "\n",
       "    .dataframe tbody tr th {\n",
       "        vertical-align: top;\n",
       "    }\n",
       "\n",
       "    .dataframe thead th {\n",
       "        text-align: right;\n",
       "    }\n",
       "</style>\n",
       "<table border=\"1\" class=\"dataframe\">\n",
       "  <thead>\n",
       "    <tr style=\"text-align: right;\">\n",
       "      <th></th>\n",
       "      <th>gas_price</th>\n",
       "    </tr>\n",
       "    <tr>\n",
       "      <th>timestamp</th>\n",
       "      <th></th>\n",
       "    </tr>\n",
       "  </thead>\n",
       "  <tbody>\n",
       "    <tr>\n",
       "      <th>2022-06-01 11:03:52</th>\n",
       "      <td>63239618198</td>\n",
       "    </tr>\n",
       "    <tr>\n",
       "      <th>2022-06-01 12:03:48</th>\n",
       "      <td>68281963048</td>\n",
       "    </tr>\n",
       "    <tr>\n",
       "      <th>2022-06-01 13:08:25</th>\n",
       "      <td>121007946512</td>\n",
       "    </tr>\n",
       "    <tr>\n",
       "      <th>2022-06-01 14:07:45</th>\n",
       "      <td>126156205023</td>\n",
       "    </tr>\n",
       "    <tr>\n",
       "      <th>2022-06-01 15:10:50</th>\n",
       "      <td>67510279000</td>\n",
       "    </tr>\n",
       "    <tr>\n",
       "      <th>2022-06-01 16:15:23</th>\n",
       "      <td>32404767035</td>\n",
       "    </tr>\n",
       "    <tr>\n",
       "      <th>2022-06-01 17:18:36</th>\n",
       "      <td>31681542751</td>\n",
       "    </tr>\n",
       "    <tr>\n",
       "      <th>2022-06-01 18:28:45</th>\n",
       "      <td>63240093401</td>\n",
       "    </tr>\n",
       "    <tr>\n",
       "      <th>2022-06-01 19:33:58</th>\n",
       "      <td>41244724759</td>\n",
       "    </tr>\n",
       "    <tr>\n",
       "      <th>2022-06-01 20:34:50</th>\n",
       "      <td>42544927254</td>\n",
       "    </tr>\n",
       "    <tr>\n",
       "      <th>2022-06-01 21:39:31</th>\n",
       "      <td>45046313989</td>\n",
       "    </tr>\n",
       "    <tr>\n",
       "      <th>2022-06-01 22:46:27</th>\n",
       "      <td>31285037523</td>\n",
       "    </tr>\n",
       "    <tr>\n",
       "      <th>2022-06-01 23:52:59</th>\n",
       "      <td>47331137724</td>\n",
       "    </tr>\n",
       "    <tr>\n",
       "      <th>2022-06-02 00:58:03</th>\n",
       "      <td>76986585357</td>\n",
       "    </tr>\n",
       "    <tr>\n",
       "      <th>2022-06-02 02:05:49</th>\n",
       "      <td>50402277857</td>\n",
       "    </tr>\n",
       "    <tr>\n",
       "      <th>2022-06-02 03:04:37</th>\n",
       "      <td>38725608138</td>\n",
       "    </tr>\n",
       "    <tr>\n",
       "      <th>2022-06-02 04:12:26</th>\n",
       "      <td>73320825445</td>\n",
       "    </tr>\n",
       "    <tr>\n",
       "      <th>2022-06-02 05:12:07</th>\n",
       "      <td>29932793320</td>\n",
       "    </tr>\n",
       "    <tr>\n",
       "      <th>2022-06-02 06:18:20</th>\n",
       "      <td>76604659266</td>\n",
       "    </tr>\n",
       "    <tr>\n",
       "      <th>2022-06-02 07:15:59</th>\n",
       "      <td>44445846941</td>\n",
       "    </tr>\n",
       "    <tr>\n",
       "      <th>2022-06-02 08:16:45</th>\n",
       "      <td>33757887680</td>\n",
       "    </tr>\n",
       "    <tr>\n",
       "      <th>2022-06-02 09:27:32</th>\n",
       "      <td>99012557091</td>\n",
       "    </tr>\n",
       "    <tr>\n",
       "      <th>2022-06-02 10:41:54</th>\n",
       "      <td>68081742736</td>\n",
       "    </tr>\n",
       "    <tr>\n",
       "      <th>2022-06-02 11:44:57</th>\n",
       "      <td>50372836790</td>\n",
       "    </tr>\n",
       "    <tr>\n",
       "      <th>2022-06-02 12:47:55</th>\n",
       "      <td>90003484019</td>\n",
       "    </tr>\n",
       "    <tr>\n",
       "      <th>2022-06-02 13:50:42</th>\n",
       "      <td>75655795119</td>\n",
       "    </tr>\n",
       "    <tr>\n",
       "      <th>2022-06-02 14:56:30</th>\n",
       "      <td>55022595957</td>\n",
       "    </tr>\n",
       "    <tr>\n",
       "      <th>2022-06-02 15:55:05</th>\n",
       "      <td>52169461239</td>\n",
       "    </tr>\n",
       "    <tr>\n",
       "      <th>2022-06-02 16:58:48</th>\n",
       "      <td>33500517051</td>\n",
       "    </tr>\n",
       "    <tr>\n",
       "      <th>2022-06-02 18:03:21</th>\n",
       "      <td>44184664476</td>\n",
       "    </tr>\n",
       "    <tr>\n",
       "      <th>2022-06-02 19:07:48</th>\n",
       "      <td>60764188586</td>\n",
       "    </tr>\n",
       "    <tr>\n",
       "      <th>2022-06-02 20:13:17</th>\n",
       "      <td>73024739287</td>\n",
       "    </tr>\n",
       "    <tr>\n",
       "      <th>2022-06-02 21:16:14</th>\n",
       "      <td>45008703623</td>\n",
       "    </tr>\n",
       "    <tr>\n",
       "      <th>2022-06-02 22:28:07</th>\n",
       "      <td>93109394033</td>\n",
       "    </tr>\n",
       "    <tr>\n",
       "      <th>2022-06-02 23:31:10</th>\n",
       "      <td>52125073354</td>\n",
       "    </tr>\n",
       "    <tr>\n",
       "      <th>2022-06-03 00:39:57</th>\n",
       "      <td>40487515172</td>\n",
       "    </tr>\n",
       "    <tr>\n",
       "      <th>2022-06-03 01:43:33</th>\n",
       "      <td>42052847438</td>\n",
       "    </tr>\n",
       "    <tr>\n",
       "      <th>2022-06-03 02:42:30</th>\n",
       "      <td>34404265631</td>\n",
       "    </tr>\n",
       "    <tr>\n",
       "      <th>2022-06-03 03:52:03</th>\n",
       "      <td>63178417146</td>\n",
       "    </tr>\n",
       "    <tr>\n",
       "      <th>2022-06-03 04:57:52</th>\n",
       "      <td>28969780519</td>\n",
       "    </tr>\n",
       "  </tbody>\n",
       "</table>\n",
       "</div>"
      ],
      "text/plain": [
       "                        gas_price\n",
       "timestamp                        \n",
       "2022-06-01 11:03:52   63239618198\n",
       "2022-06-01 12:03:48   68281963048\n",
       "2022-06-01 13:08:25  121007946512\n",
       "2022-06-01 14:07:45  126156205023\n",
       "2022-06-01 15:10:50   67510279000\n",
       "2022-06-01 16:15:23   32404767035\n",
       "2022-06-01 17:18:36   31681542751\n",
       "2022-06-01 18:28:45   63240093401\n",
       "2022-06-01 19:33:58   41244724759\n",
       "2022-06-01 20:34:50   42544927254\n",
       "2022-06-01 21:39:31   45046313989\n",
       "2022-06-01 22:46:27   31285037523\n",
       "2022-06-01 23:52:59   47331137724\n",
       "2022-06-02 00:58:03   76986585357\n",
       "2022-06-02 02:05:49   50402277857\n",
       "2022-06-02 03:04:37   38725608138\n",
       "2022-06-02 04:12:26   73320825445\n",
       "2022-06-02 05:12:07   29932793320\n",
       "2022-06-02 06:18:20   76604659266\n",
       "2022-06-02 07:15:59   44445846941\n",
       "2022-06-02 08:16:45   33757887680\n",
       "2022-06-02 09:27:32   99012557091\n",
       "2022-06-02 10:41:54   68081742736\n",
       "2022-06-02 11:44:57   50372836790\n",
       "2022-06-02 12:47:55   90003484019\n",
       "2022-06-02 13:50:42   75655795119\n",
       "2022-06-02 14:56:30   55022595957\n",
       "2022-06-02 15:55:05   52169461239\n",
       "2022-06-02 16:58:48   33500517051\n",
       "2022-06-02 18:03:21   44184664476\n",
       "2022-06-02 19:07:48   60764188586\n",
       "2022-06-02 20:13:17   73024739287\n",
       "2022-06-02 21:16:14   45008703623\n",
       "2022-06-02 22:28:07   93109394033\n",
       "2022-06-02 23:31:10   52125073354\n",
       "2022-06-03 00:39:57   40487515172\n",
       "2022-06-03 01:43:33   42052847438\n",
       "2022-06-03 02:42:30   34404265631\n",
       "2022-06-03 03:52:03   63178417146\n",
       "2022-06-03 04:57:52   28969780519"
      ]
     },
     "metadata": {},
     "output_type": "display_data"
    },
    {
     "data": {
      "text/html": [
       "<div>\n",
       "<style scoped>\n",
       "    .dataframe tbody tr th:only-of-type {\n",
       "        vertical-align: middle;\n",
       "    }\n",
       "\n",
       "    .dataframe tbody tr th {\n",
       "        vertical-align: top;\n",
       "    }\n",
       "\n",
       "    .dataframe thead th {\n",
       "        text-align: right;\n",
       "    }\n",
       "</style>\n",
       "<table border=\"1\" class=\"dataframe\">\n",
       "  <thead>\n",
       "    <tr style=\"text-align: right;\">\n",
       "      <th></th>\n",
       "      <th>gas_price</th>\n",
       "    </tr>\n",
       "    <tr>\n",
       "      <th>timestamp</th>\n",
       "      <th></th>\n",
       "    </tr>\n",
       "  </thead>\n",
       "  <tbody>\n",
       "    <tr>\n",
       "      <th>2023-05-20 07:26:23</th>\n",
       "      <td>36167651916</td>\n",
       "    </tr>\n",
       "    <tr>\n",
       "      <th>2023-05-20 08:22:11</th>\n",
       "      <td>42579332023</td>\n",
       "    </tr>\n",
       "    <tr>\n",
       "      <th>2023-05-20 09:17:47</th>\n",
       "      <td>36887580795</td>\n",
       "    </tr>\n",
       "    <tr>\n",
       "      <th>2023-05-20 10:13:23</th>\n",
       "      <td>42755192159</td>\n",
       "    </tr>\n",
       "    <tr>\n",
       "      <th>2023-05-20 11:09:35</th>\n",
       "      <td>34687802687</td>\n",
       "    </tr>\n",
       "    <tr>\n",
       "      <th>2023-05-20 12:05:35</th>\n",
       "      <td>29684795277</td>\n",
       "    </tr>\n",
       "    <tr>\n",
       "      <th>2023-05-20 13:02:35</th>\n",
       "      <td>31417792342</td>\n",
       "    </tr>\n",
       "    <tr>\n",
       "      <th>2023-05-20 13:58:35</th>\n",
       "      <td>31031853696</td>\n",
       "    </tr>\n",
       "    <tr>\n",
       "      <th>2023-05-20 14:54:23</th>\n",
       "      <td>28188597658</td>\n",
       "    </tr>\n",
       "    <tr>\n",
       "      <th>2023-05-20 15:50:35</th>\n",
       "      <td>29012598570</td>\n",
       "    </tr>\n",
       "  </tbody>\n",
       "</table>\n",
       "</div>"
      ],
      "text/plain": [
       "                       gas_price\n",
       "timestamp                       \n",
       "2023-05-20 07:26:23  36167651916\n",
       "2023-05-20 08:22:11  42579332023\n",
       "2023-05-20 09:17:47  36887580795\n",
       "2023-05-20 10:13:23  42755192159\n",
       "2023-05-20 11:09:35  34687802687\n",
       "2023-05-20 12:05:35  29684795277\n",
       "2023-05-20 13:02:35  31417792342\n",
       "2023-05-20 13:58:35  31031853696\n",
       "2023-05-20 14:54:23  28188597658\n",
       "2023-05-20 15:50:35  29012598570"
      ]
     },
     "execution_count": 107,
     "metadata": {},
     "output_type": "execute_result"
    }
   ],
   "source": [
    "display(gas_price_df.head(40))\n",
    "gas_price_df.tail(10)"
   ]
  },
  {
   "cell_type": "code",
   "execution_count": 117,
   "id": "1329a7bb-e2ee-4d9e-aa9e-df525f346ac0",
   "metadata": {
    "tags": []
   },
   "outputs": [
    {
     "data": {
      "image/png": "[encoded data removed]",
      "text/plain": [
       "<Figure size 640x480 with 1 Axes>"
      ]
     },
     "metadata": {},
     "output_type": "display_data"
    }
   ],
   "source": [
    "gas_price_df['gas_price'].plot(\n",
    "    title=\"Etherium hourly gas prices for 1 yaer period\");"
   ]
  },
  {
   "cell_type": "markdown",
   "id": "e44959cc-19c1-4a19-b648-130c7bf53fb7",
   "metadata": {},
   "source": [
    "### Step 4:Resample to daily data\n",
    "The format 6.007497e+10 is scientific notation, and it is equivalent to 60,074,970,000. Scientific notation is often used for very large or very small numbers to make them easier to read and write."
   ]
  },
  {
   "cell_type": "code",
   "execution_count": 123,
   "id": "7d82d634-7681-4a7b-80f3-09c0a31b181a",
   "metadata": {
    "tags": []
   },
   "outputs": [
    {
     "name": "stdout",
     "output_type": "stream",
     "text": [
      "<class 'pandas.core.frame.DataFrame'>\n",
      "DatetimeIndex: 354 entries, 2022-06-01 to 2023-05-20\n",
      "Freq: D\n",
      "Data columns (total 1 columns):\n",
      " #   Column     Non-Null Count  Dtype  \n",
      "---  ------     --------------  -----  \n",
      " 0   gas_price  354 non-null    float64\n",
      "dtypes: float64(1)\n",
      "memory usage: 5.5 KB\n"
     ]
    }
   ],
   "source": [
    "# Resample the data into daily data, taking the mean gas price for each day\n",
    "daily_gas_price_df = gas_price_df.resample('D').mean()\n",
    "daily_gas_price_df.info()"
   ]
  },
  {
   "cell_type": "code",
   "execution_count": 116,
   "id": "1775429e-8108-4788-ba6f-c25d15c47537",
   "metadata": {
    "tags": []
   },
   "outputs": [
    {
     "data": {
      "text/html": [
       "<div>\n",
       "<style scoped>\n",
       "    .dataframe tbody tr th:only-of-type {\n",
       "        vertical-align: middle;\n",
       "    }\n",
       "\n",
       "    .dataframe tbody tr th {\n",
       "        vertical-align: top;\n",
       "    }\n",
       "\n",
       "    .dataframe thead th {\n",
       "        text-align: right;\n",
       "    }\n",
       "</style>\n",
       "<table border=\"1\" class=\"dataframe\">\n",
       "  <thead>\n",
       "    <tr style=\"text-align: right;\">\n",
       "      <th></th>\n",
       "      <th>gas_price</th>\n",
       "    </tr>\n",
       "    <tr>\n",
       "      <th>timestamp</th>\n",
       "      <th></th>\n",
       "    </tr>\n",
       "  </thead>\n",
       "  <tbody>\n",
       "    <tr>\n",
       "      <th>2022-06-01</th>\n",
       "      <td>6.007497e+10</td>\n",
       "    </tr>\n",
       "    <tr>\n",
       "      <th>2022-06-02</th>\n",
       "      <td>5.982783e+10</td>\n",
       "    </tr>\n",
       "    <tr>\n",
       "      <th>2022-06-03</th>\n",
       "      <td>6.758136e+10</td>\n",
       "    </tr>\n",
       "    <tr>\n",
       "      <th>2022-06-04</th>\n",
       "      <td>5.059850e+10</td>\n",
       "    </tr>\n",
       "    <tr>\n",
       "      <th>2022-06-05</th>\n",
       "      <td>5.107946e+10</td>\n",
       "    </tr>\n",
       "    <tr>\n",
       "      <th>2022-06-06</th>\n",
       "      <td>4.686028e+10</td>\n",
       "    </tr>\n",
       "    <tr>\n",
       "      <th>2022-06-07</th>\n",
       "      <td>5.828740e+10</td>\n",
       "    </tr>\n",
       "    <tr>\n",
       "      <th>2022-06-08</th>\n",
       "      <td>6.450062e+10</td>\n",
       "    </tr>\n",
       "    <tr>\n",
       "      <th>2022-06-09</th>\n",
       "      <td>5.889821e+10</td>\n",
       "    </tr>\n",
       "    <tr>\n",
       "      <th>2022-06-10</th>\n",
       "      <td>4.413869e+10</td>\n",
       "    </tr>\n",
       "    <tr>\n",
       "      <th>2022-06-11</th>\n",
       "      <td>3.876842e+10</td>\n",
       "    </tr>\n",
       "    <tr>\n",
       "      <th>2022-06-12</th>\n",
       "      <td>4.793050e+10</td>\n",
       "    </tr>\n",
       "    <tr>\n",
       "      <th>2022-06-13</th>\n",
       "      <td>8.262616e+10</td>\n",
       "    </tr>\n",
       "    <tr>\n",
       "      <th>2022-06-14</th>\n",
       "      <td>4.297278e+10</td>\n",
       "    </tr>\n",
       "    <tr>\n",
       "      <th>2022-06-15</th>\n",
       "      <td>6.471697e+10</td>\n",
       "    </tr>\n",
       "    <tr>\n",
       "      <th>2022-06-16</th>\n",
       "      <td>4.223125e+10</td>\n",
       "    </tr>\n",
       "    <tr>\n",
       "      <th>2022-06-17</th>\n",
       "      <td>3.244496e+10</td>\n",
       "    </tr>\n",
       "    <tr>\n",
       "      <th>2022-06-18</th>\n",
       "      <td>5.327036e+10</td>\n",
       "    </tr>\n",
       "    <tr>\n",
       "      <th>2022-06-19</th>\n",
       "      <td>2.921355e+10</td>\n",
       "    </tr>\n",
       "    <tr>\n",
       "      <th>2022-06-20</th>\n",
       "      <td>2.681575e+10</td>\n",
       "    </tr>\n",
       "  </tbody>\n",
       "</table>\n",
       "</div>"
      ],
      "text/plain": [
       "               gas_price\n",
       "timestamp               \n",
       "2022-06-01  6.007497e+10\n",
       "2022-06-02  5.982783e+10\n",
       "2022-06-03  6.758136e+10\n",
       "2022-06-04  5.059850e+10\n",
       "2022-06-05  5.107946e+10\n",
       "2022-06-06  4.686028e+10\n",
       "2022-06-07  5.828740e+10\n",
       "2022-06-08  6.450062e+10\n",
       "2022-06-09  5.889821e+10\n",
       "2022-06-10  4.413869e+10\n",
       "2022-06-11  3.876842e+10\n",
       "2022-06-12  4.793050e+10\n",
       "2022-06-13  8.262616e+10\n",
       "2022-06-14  4.297278e+10\n",
       "2022-06-15  6.471697e+10\n",
       "2022-06-16  4.223125e+10\n",
       "2022-06-17  3.244496e+10\n",
       "2022-06-18  5.327036e+10\n",
       "2022-06-19  2.921355e+10\n",
       "2022-06-20  2.681575e+10"
      ]
     },
     "metadata": {},
     "output_type": "display_data"
    },
    {
     "data": {
      "text/html": [
       "<div>\n",
       "<style scoped>\n",
       "    .dataframe tbody tr th:only-of-type {\n",
       "        vertical-align: middle;\n",
       "    }\n",
       "\n",
       "    .dataframe tbody tr th {\n",
       "        vertical-align: top;\n",
       "    }\n",
       "\n",
       "    .dataframe thead th {\n",
       "        text-align: right;\n",
       "    }\n",
       "</style>\n",
       "<table border=\"1\" class=\"dataframe\">\n",
       "  <thead>\n",
       "    <tr style=\"text-align: right;\">\n",
       "      <th></th>\n",
       "      <th>gas_price</th>\n",
       "    </tr>\n",
       "    <tr>\n",
       "      <th>timestamp</th>\n",
       "      <th></th>\n",
       "    </tr>\n",
       "  </thead>\n",
       "  <tbody>\n",
       "    <tr>\n",
       "      <th>2023-05-11</th>\n",
       "      <td>9.650878e+10</td>\n",
       "    </tr>\n",
       "    <tr>\n",
       "      <th>2023-05-12</th>\n",
       "      <td>5.662023e+10</td>\n",
       "    </tr>\n",
       "    <tr>\n",
       "      <th>2023-05-13</th>\n",
       "      <td>3.934500e+10</td>\n",
       "    </tr>\n",
       "    <tr>\n",
       "      <th>2023-05-14</th>\n",
       "      <td>4.242398e+10</td>\n",
       "    </tr>\n",
       "    <tr>\n",
       "      <th>2023-05-15</th>\n",
       "      <td>6.041061e+10</td>\n",
       "    </tr>\n",
       "    <tr>\n",
       "      <th>2023-05-16</th>\n",
       "      <td>5.258804e+10</td>\n",
       "    </tr>\n",
       "    <tr>\n",
       "      <th>2023-05-17</th>\n",
       "      <td>5.147708e+10</td>\n",
       "    </tr>\n",
       "    <tr>\n",
       "      <th>2023-05-18</th>\n",
       "      <td>5.086370e+10</td>\n",
       "    </tr>\n",
       "    <tr>\n",
       "      <th>2023-05-19</th>\n",
       "      <td>4.182389e+10</td>\n",
       "    </tr>\n",
       "    <tr>\n",
       "      <th>2023-05-20</th>\n",
       "      <td>3.329143e+10</td>\n",
       "    </tr>\n",
       "  </tbody>\n",
       "</table>\n",
       "</div>"
      ],
      "text/plain": [
       "               gas_price\n",
       "timestamp               \n",
       "2023-05-11  9.650878e+10\n",
       "2023-05-12  5.662023e+10\n",
       "2023-05-13  3.934500e+10\n",
       "2023-05-14  4.242398e+10\n",
       "2023-05-15  6.041061e+10\n",
       "2023-05-16  5.258804e+10\n",
       "2023-05-17  5.147708e+10\n",
       "2023-05-18  5.086370e+10\n",
       "2023-05-19  4.182389e+10\n",
       "2023-05-20  3.329143e+10"
      ]
     },
     "execution_count": 116,
     "metadata": {},
     "output_type": "execute_result"
    }
   ],
   "source": [
    "display(daily_gas_price_df.head(20))\n",
    "daily_gas_price_df.tail(10)"
   ]
  },
  {
   "cell_type": "code",
   "execution_count": 118,
   "id": "afbc8dc4-731e-4062-99cd-a68cc6ba3b31",
   "metadata": {
    "tags": []
   },
   "outputs": [
    {
     "data": {
      "image/png": "[encoded data removed]",
      "text/plain": [
       "<Figure size 640x480 with 1 Axes>"
      ]
     },
     "metadata": {},
     "output_type": "display_data"
    }
   ],
   "source": [
    "daily_gas_price_df['gas_price'].plot(\n",
    "    title=\"Etherium daly gas prices for 1 yaer period\");"
   ]
  },
  {
   "cell_type": "markdown",
   "id": "e816185d-7782-4df6-a324-579e47c82175",
   "metadata": {
    "tags": []
   },
   "source": [
    "### Step 6: Check for Stationarity\n",
    "Before applying an ARIMA model, we need to make sure our data is stationary. The Augmented Dickey-Fuller test can be used to test for a unit root in a univariate process in the presence of serial correlation.\n",
    "This function will print out the test statistic, p-value, and critical values for the test. If the test statistic is less than the critical value, we can reject the null hypothesis (that the time series is not stationary). If not, we will need to transform the data to make it stationary."
   ]
  },
  {
   "cell_type": "code",
   "execution_count": 125,
   "id": "715b48e5-a359-4fb5-b620-5fea799b83fd",
   "metadata": {
    "tags": []
   },
   "outputs": [
    {
     "name": "stdout",
     "output_type": "stream",
     "text": [
      "p-value: 0.012721271931087587\n"
     ]
    }
   ],
   "source": [
    "adf_test = adfuller(daily_gas_price_df['gas_price'])\n",
    "print(f'p-value: {adf_test[1]}')"
   ]
  },
  {
   "cell_type": "code",
   "execution_count": null,
   "id": "67bd688d-2b1b-40b9-8565-1aa6209741d7",
   "metadata": {},
   "outputs": [],
   "source": []
  },
  {
   "cell_type": "code",
   "execution_count": 121,
   "id": "5624dea3-70cb-4935-9e97-d0653791aa3d",
   "metadata": {},
   "outputs": [
    {
     "name": "stdout",
     "output_type": "stream",
     "text": [
      "Results of Augmented Dickey-Fuller Test:\n",
      "Test Statistic                  -3.351663\n",
      "p-value                          0.012721\n",
      "#Lags Used                       3.000000\n",
      "Number of Observations Used    350.000000\n",
      "Critical Value (1%)             -3.449173\n",
      "Critical Value (5%)             -2.869833\n",
      "Critical Value (10%)            -2.571188\n",
      "dtype: float64\n"
     ]
    }
   ],
   "source": [
    "# Define a function to perform the Augmented Dickey-Fuller test\n",
    "def check_stationarity(data):\n",
    "    \"\"\"\n",
    "    Perform Augmented Dickey-Fuller test to check for stationarity.\n",
    "    \n",
    "    Arguments:\n",
    "    Pandas Series: a series of data to be checked for stationarity.\n",
    "    \n",
    "    Returns:\n",
    "    Prints test statistics and critical values.\n",
    "    \"\"\"\n",
    "    # Perform Augmented Dickey-Fuller test\n",
    "    # Perform the test using the AIC criterion for choosing the number of lags\n",
    "    print('Results of Augmented Dickey-Fuller Test:')\n",
    "    adf_test = adfuller(data, autolag='AIC')  \n",
    "\n",
    "    # Extract and print the test statistics and critical values\n",
    "    adf_output = pd.Series(adf_test[0:4], \n",
    "                           index=['Test Statistic', 'p-value', '#Lags Used', 'Number of Observations Used'])\n",
    "    \n",
    "    for key, value in adf_test[4].items():\n",
    "        adf_output['Critical Value (%s)' % key] = value\n",
    "    print(adf_output)\n",
    "\n",
    "# Apply the function\n",
    "check_stationarity(daily_gas_price_df['gas_price'])"
   ]
  },
  {
   "cell_type": "markdown",
   "id": "e409c4a0-b8f6-4c7b-baf7-4b8e642d93b8",
   "metadata": {},
   "source": [
    "### Conclusion: \n",
    "Looking at your results:\n",
    "* The Test Statistic (-3.35) is less than the 5% Critical Value (-2.869833).\n",
    "* The p-value (0.012721) is less than 0.05.\n",
    "\n",
    "The results allow us to reject the null hypothesis. Therefore, we conclude that the time series is stationary. This means that the statistical properties of the series (like the mean and variance) are not a function of time."
   ]
  },
  {
   "cell_type": "markdown",
   "id": "87c2c865-f9f5-4a09-a643-43e8ffc503ad",
   "metadata": {},
   "source": [
    "### Step 7: Plot ACF and PACF\n",
    "The ACF and PACF plots are used to identify the parameters for the ARIMA model. For instance, a sharp drop after lag 'k' in the PACF plot indicates that 'k' should be the order of the AR term. Similarly, a gradual decline in the ACF plot suggests a MA term.\n",
    "The `plot_acf` function plots the autocorrelation function, which measures the correlation between the time series with a lagged version of itself. The `lags` parameter specifies the number of lags to consider. The `zero` parameter is set to `False` to exclude the correlation of the time series with itself (at lag zero).\n",
    "\n",
    "Similarly, the `plot_pacf` function plots the partial autocorrelation function. The PACF measures the correlation between the time series with a lagged version of itself but after eliminating the variations already explained by the intervening comparisons. In other words, it measures the direct effect of the past lagged observations on the current observation."
   ]
  },
  {
   "cell_type": "code",
   "execution_count": 128,
   "id": "1eb6a38e-1a63-4bef-8036-651f4b224d9c",
   "metadata": {},
   "outputs": [
    {
     "data": {
      "image/png": "[encoded data removed]",
      "text/plain": [
       "<Figure size 1200x800 with 2 Axes>"
      ]
     },
     "metadata": {},
     "output_type": "display_data"
    }
   ],
   "source": [
    "# Define the size of the plots\n",
    "fig, (ax1, ax2) = plt.subplots(2, 1, figsize=(12,8))\n",
    "\n",
    "# Plot the ACF on ax1\n",
    "plot_acf(daily_gas_price_df['gas_price'], lags=50, zero=False, ax=ax1)\n",
    "\n",
    "# Plot the PACF on ax2\n",
    "plot_pacf(daily_gas_price_df['gas_price'], lags=50, zero=False, ax=ax2)\n",
    "\n",
    "# Show the plots\n",
    "plt.show()"
   ]
  },
  {
   "cell_type": "code",
   "execution_count": null,
   "id": "516b36fb-ba4c-4644-97b1-90c3b7d03039",
   "metadata": {},
   "outputs": [],
   "source": []
  },
  {
   "cell_type": "code",
   "execution_count": null,
   "id": "77ebaa81-940a-40f5-aaae-d409345a21b7",
   "metadata": {},
   "outputs": [],
   "source": []
  },
  {
   "cell_type": "code",
   "execution_count": null,
   "id": "f40058e3-5dc2-479c-9f02-9ec884a88084",
   "metadata": {},
   "outputs": [],
   "source": []
  },
  {
   "cell_type": "code",
   "execution_count": null,
   "id": "47fbbc0d-f84e-44e7-8695-34cefe933254",
   "metadata": {},
   "outputs": [],
   "source": []
  },
  {
   "cell_type": "code",
   "execution_count": null,
   "id": "0f8b8241-81ec-4824-ae2e-e42384e353e3",
   "metadata": {},
   "outputs": [],
   "source": []
  },
  {
   "cell_type": "code",
   "execution_count": null,
   "id": "91771c24-db7f-4f92-a76e-d9eb08e2c302",
   "metadata": {},
   "outputs": [],
   "source": []
  },
  {
   "cell_type": "code",
   "execution_count": null,
   "id": "543742d0-3bab-48d5-924b-b0ef27a08284",
   "metadata": {},
   "outputs": [],
   "source": []
  },
  {
   "cell_type": "code",
   "execution_count": null,
   "id": "a7092b08-4046-454a-ad07-fc62fbe415d6",
   "metadata": {},
   "outputs": [],
   "source": []
  },
  {
   "cell_type": "code",
   "execution_count": null,
   "id": "e3c2450a-01fb-46ab-9197-2fc57eb613fa",
   "metadata": {},
   "outputs": [],
   "source": []
  },
  {
   "cell_type": "code",
   "execution_count": null,
   "id": "670d9d68-d62b-4ffd-b05b-5e8eebf07ec9",
   "metadata": {},
   "outputs": [],
   "source": []
  },
  {
   "cell_type": "code",
   "execution_count": null,
   "id": "c03dffb8-06a2-470a-b149-514ef3d69538",
   "metadata": {},
   "outputs": [],
   "source": []
  },
  {
   "cell_type": "code",
   "execution_count": null,
   "id": "371b3c7e-e65c-4418-8709-faf75c068715",
   "metadata": {},
   "outputs": [],
   "source": []
  },
  {
   "cell_type": "code",
   "execution_count": null,
   "id": "a7745fd6-d29d-4ef3-b0a1-513c7f07a74e",
   "metadata": {},
   "outputs": [],
   "source": []
  },
  {
   "cell_type": "code",
   "execution_count": null,
   "id": "40405f26-f8d6-430f-a974-a14dc4844cda",
   "metadata": {},
   "outputs": [],
   "source": []
  },
  {
   "cell_type": "code",
   "execution_count": null,
   "id": "7f59e8db-bf01-4b4b-9595-6d9605d96990",
   "metadata": {},
   "outputs": [],
   "source": []
  },
  {
   "cell_type": "code",
   "execution_count": null,
   "id": "4fd34043-775f-488a-9e7e-228d9b8e15e8",
   "metadata": {},
   "outputs": [],
   "source": []
  },
  {
   "cell_type": "code",
   "execution_count": null,
   "id": "b826d976-ae64-4db8-9be8-b22264863776",
   "metadata": {},
   "outputs": [],
   "source": []
  },
  {
   "cell_type": "code",
   "execution_count": null,
   "id": "1a69905c-1fe4-4f09-ba12-6819e684b910",
   "metadata": {},
   "outputs": [],
   "source": []
  },
  {
   "cell_type": "code",
   "execution_count": null,
   "id": "14c92c48-9777-49f2-b6e9-4477e0ce7249",
   "metadata": {},
   "outputs": [],
   "source": []
  },
  {
   "cell_type": "code",
   "execution_count": null,
   "id": "dce1e9d7-131e-488f-aa29-00965fe0eb80",
   "metadata": {},
   "outputs": [],
   "source": []
  },
  {
   "cell_type": "code",
   "execution_count": null,
   "id": "9adf18bc-0ceb-4397-aeec-76e8708ea964",
   "metadata": {},
   "outputs": [],
   "source": []
  },
  {
   "cell_type": "code",
   "execution_count": null,
   "id": "0d91eb64-99f0-4ae2-ad3f-b426632454a0",
   "metadata": {},
   "outputs": [],
   "source": []
  },
  {
   "cell_type": "code",
   "execution_count": null,
   "id": "349f95c3-571f-4d6c-aa2b-7eb67045c835",
   "metadata": {},
   "outputs": [],
   "source": []
  },
  {
   "cell_type": "code",
   "execution_count": null,
   "id": "be74797a-b99b-4b85-b61d-18ccff687d6b",
   "metadata": {},
   "outputs": [],
   "source": []
  }
 ],
 "metadata": {
  "kernelspec": {
   "display_name": "Python 3 (ipykernel)",
   "language": "python",
   "name": "python3"
  },
  "language_info": {
   "codemirror_mode": {
    "name": "ipython",
    "version": 3
   },
   "file_extension": ".py",
   "mimetype": "text/x-python",
   "name": "python",
   "nbconvert_exporter": "python",
   "pygments_lexer": "ipython3",
   "version": "3.8.0"
  }
 },
 "nbformat": 4,
 "nbformat_minor": 5
}
